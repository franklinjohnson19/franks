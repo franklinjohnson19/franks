{
 "cells": [
  {
   "cell_type": "code",
   "execution_count": 3,
   "metadata": {},
   "outputs": [
    {
     "name": "stdout",
     "output_type": "stream",
     "text": [
      "Enter a number12\n",
      "Enter a number23\n",
      "Enter a number45\n",
      "Enter a number33\n",
      "Enter a number32\n",
      "Enter a number16\n",
      "Enter a number78\n",
      "Enter a number80\n",
      "Enter a number50\n",
      "Enter a number10\n"
     ]
    },
    {
     "data": {
      "text/plain": [
       "[12, 32, 16, 78, 80, 50, 10]"
      ]
     },
     "execution_count": 3,
     "metadata": {},
     "output_type": "execute_result"
    }
   ],
   "source": [
    "#Q1\n",
    "myList=[]\n",
    "for i in range(10):\n",
    "    num=int(input(\"Enter a number\"))\n",
    "    if(num%2==0):\n",
    "        myList.append(num)\n",
    "myList\n",
    "    "
   ]
  },
  {
   "cell_type": "code",
   "execution_count": 2,
   "metadata": {},
   "outputs": [
    {
     "name": "stdout",
     "output_type": "stream",
     "text": [
      "[10, 20, 30, 40, 50]\n",
      "[20, 40]\n"
     ]
    }
   ],
   "source": [
    "#Q2\n",
    "#List comprehensions\n",
    "myList=[10,15,20,25,30,35,40,45,50]\n",
    "evenList=[var for var in myList if (var%2==0)]\n",
    "print(evenList)\n",
    "list=[var for var in myList if (var%2==0) if (var%4==0)]\n",
    "print(list)"
   ]
  },
  {
   "cell_type": "code",
   "execution_count": 7,
   "metadata": {},
   "outputs": [
    {
     "name": "stdout",
     "output_type": "stream",
     "text": [
      "enter a number10\n",
      "{0: 0, 1: 1, 2: 4, 3: 9, 4: 16, 5: 25, 6: 36, 7: 49, 8: 64, 9: 81, 10: 100}\n"
     ]
    }
   ],
   "source": [
    "#Q3\n",
    "class Dictionary(dict): \n",
    "  \n",
    "    # start function \n",
    "    def start(lst): \n",
    "        lst = dict() \n",
    "          \n",
    "    # Function to add key:value \n",
    "    def add(lst, key, value): \n",
    "        lst[key] = value \n",
    "  # Main Function \n",
    "dict_obj = Dictionary() \n",
    "num=int(input(\"enter a number\"))\n",
    "for i in range(num+1):\n",
    "    dict_obj.add(i, i**2) \n",
    "print(dict_obj)"
   ]
  },
  {
   "cell_type": "code",
   "execution_count": 9,
   "metadata": {},
   "outputs": [
    {
     "name": "stdout",
     "output_type": "stream",
     "text": [
      "enter no. of directions4\n",
      "up  = \n",
      " 2\n",
      "down  = \n",
      " 2\n",
      "left  = \n",
      " 2\n",
      "right  = \n",
      " 2\n"
     ]
    },
    {
     "data": {
      "text/plain": [
       "0"
      ]
     },
     "execution_count": 9,
     "metadata": {},
     "output_type": "execute_result"
    }
   ],
   "source": [
    "#Q4\n",
    "import math\n",
    "user=int(input(\"enter no. of directions\" ))\n",
    "list=['up','down','left','right']\n",
    "up=0\n",
    "down=0\n",
    "left=0\n",
    "right=0\n",
    "for i in range(len(list)):\n",
    "    if i<=(user-1):\n",
    "            print(list[i],' = ')\n",
    "            list[i]=int(input(\" \"))\n",
    "    else: list[i]=0\n",
    "up=list[0]\n",
    "down=list[1]\n",
    "left=list[2]\n",
    "right=list[3]\n",
    "#print(up,down,left,right)\n",
    "y=up-down\n",
    "x=left-right\n",
    "dist=round(math.sqrt(x**2+y**2))\n",
    "dist\n"
   ]
  },
  {
   "cell_type": "code",
   "execution_count": null,
   "metadata": {},
   "outputs": [],
   "source": []
  }
 ],
 "metadata": {
  "kernelspec": {
   "display_name": "Python 3",
   "language": "python",
   "name": "python3"
  },
  "language_info": {
   "codemirror_mode": {
    "name": "ipython",
    "version": 3
   },
   "file_extension": ".py",
   "mimetype": "text/x-python",
   "name": "python",
   "nbconvert_exporter": "python",
   "pygments_lexer": "ipython3",
   "version": "3.8.3"
  }
 },
 "nbformat": 4,
 "nbformat_minor": 4
}
