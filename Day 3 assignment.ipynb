{
 "cells": [
  {
   "cell_type": "code",
   "execution_count": 3,
   "metadata": {},
   "outputs": [
    {
     "data": {
      "text/plain": [
       "array([ 2,  5,  8, 11, 14, 17, 20, 23, 26, 29, 32, 35, 38, 41, 44, 47])"
      ]
     },
     "execution_count": 3,
     "metadata": {},
     "output_type": "execute_result"
    }
   ],
   "source": [
    "#Q1\n",
    "import numpy as np\n",
    "np.arange(2,50,3)\n",
    "    \n"
   ]
  },
  {
   "cell_type": "code",
   "execution_count": 35,
   "metadata": {},
   "outputs": [
    {
     "name": "stdout",
     "output_type": "stream",
     "text": [
      "1\n",
      "2\n",
      "3\n",
      "4\n",
      "5\n",
      "6\n",
      "7\n",
      "8\n",
      "9\n",
      "10\n",
      "array 1\n",
      "[1, 3, 5, 7, 9]\n",
      "array 2\n",
      "[2, 4, 6, 8, 10]\n",
      "concatenated list\n",
      "[ 1  3  5  7  9  2  4  6  8 10]\n",
      "sorted list\n",
      "[ 1  2  3  4  5  6  7  8  9 10]\n"
     ]
    }
   ],
   "source": [
    "#Q2\n",
    "lst1=[]\n",
    "lst2=[]\n",
    "for i in range(0,5):\n",
    "    ele1=int(input())\n",
    "    ele2=int(input())\n",
    "    lst1.append(ele1)\n",
    "    lst2.append(ele2)\n",
    "print(\"array 1\")\n",
    "print(lst1)\n",
    "print(\"array 2\")\n",
    "print(lst2)\n",
    "lst1=np.array(lst1)\n",
    "lst2=np.array(lst2)\n",
    "arr=np.concatenate((lst1,lst2))\n",
    "print(\"concatenated list\")\n",
    "print(arr)\n",
    "sortedArr=np.sort(arr)\n",
    "print(\"sorted list\")\n",
    "print(sortedArr)\n",
    "    "
   ]
  },
  {
   "cell_type": "code",
   "execution_count": 20,
   "metadata": {},
   "outputs": [
    {
     "name": "stdout",
     "output_type": "stream",
     "text": [
      "2D Numpy Array\n",
      "[[ 1  2  3  4]\n",
      " [ 5  6  7  8]\n",
      " [ 9 10 11 12]]\n",
      "DIMENSION\n",
      "Number of Rows :  3\n",
      "Number of Columns :  4\n",
      "Total Number of elements in 2D Numpy array :  12\n"
     ]
    }
   ],
   "source": [
    "#Q3\n",
    "arr2D = np.array([[1 ,2,3,4], [5,6,7,8], [9,10,11,12]])\n",
    "print('2D Numpy Array')\n",
    "print(arr2D)\n",
    "numOfRows = np.size(arr2D, 0)\n",
    "numOfColumns = np.size(arr2D, 1)\n",
    "print(\"DIMENSION\")\n",
    "print('Number of Rows : ', numOfRows)\n",
    "print('Number of Columns : ', numOfColumns)\n",
    "print('Total Number of elements in 2D Numpy array : ', np.size(arr2D))"
   ]
  },
  {
   "cell_type": "code",
   "execution_count": 43,
   "metadata": {},
   "outputs": [
    {
     "name": "stdout",
     "output_type": "stream",
     "text": [
      "1D Numpy array:\n",
      "[ 1  2  3  4  5  6  7  8  9 10]\n",
      "\n",
      "1D array converted into 2D numpy array\n",
      "[[ 1  3  5  7  9]\n",
      " [ 2  4  6  8 10]]\n"
     ]
    }
   ],
   "source": [
    "#Q4\n",
    "arr_1D = np.array([1, 2, 3, 4, 5, 6, 7, 8, 9,10])\n",
    "print('1D Numpy array:')\n",
    "print(arr_1D)\n",
    "print(\"\\n1D array converted into 2D numpy array\")\n",
    "arr_2d = np.reshape(arr, (2,5 ))\n",
    "print(arr_2d)"
   ]
  },
  {
   "cell_type": "code",
   "execution_count": 54,
   "metadata": {},
   "outputs": [
    {
     "name": "stdout",
     "output_type": "stream",
     "text": [
      "vertical stack\n",
      "[[ 4  9 12]\n",
      " [16 25 36]]\n",
      "\n",
      "horizontal stack\n",
      "[ 4  9 12 16 25 36]\n"
     ]
    }
   ],
   "source": [
    "#Q5\n",
    "arr1 = np.array([4,9,12])\n",
    "arr2 = np.array([16,25,36])\n",
    "vs=np.vstack((arr1,arr2))\n",
    "hs=np.hstack((arr1,arr2))\n",
    "print(\"vertical stack\")\n",
    "print(vs)\n",
    "print(\"\\nhorizontal stack\")\n",
    "print(hs)"
   ]
  },
  {
   "cell_type": "code",
   "execution_count": 59,
   "metadata": {},
   "outputs": [
    {
     "name": "stdout",
     "output_type": "stream",
     "text": [
      "the unique values from 1st list is\n",
      "[10 20 30 40]\n",
      "No of unique items in the list are: 4\n"
     ]
    }
   ],
   "source": [
    "#Q6\n",
    "def unique(list1): \n",
    "    x = np.array(list1) \n",
    "    print(np.unique(x)) \n",
    "       \n",
    "list1 = [10, 20, 10, 30, 40, 40] \n",
    "print(\"the unique values from 1st list is\") \n",
    "unique(list1) \n",
    "new_set = set(list1) \n",
    "print(\"No of unique items in the list are:\", len(new_set))\n",
    "  \n"
   ]
  },
  {
   "cell_type": "code",
   "execution_count": null,
   "metadata": {},
   "outputs": [],
   "source": []
  },
  {
   "cell_type": "code",
   "execution_count": null,
   "metadata": {},
   "outputs": [],
   "source": []
  }
 ],
 "metadata": {
  "kernelspec": {
   "display_name": "Python 3",
   "language": "python",
   "name": "python3"
  },
  "language_info": {
   "codemirror_mode": {
    "name": "ipython",
    "version": 3
   },
   "file_extension": ".py",
   "mimetype": "text/x-python",
   "name": "python",
   "nbconvert_exporter": "python",
   "pygments_lexer": "ipython3",
   "version": "3.8.3"
  }
 },
 "nbformat": 4,
 "nbformat_minor": 4
}
